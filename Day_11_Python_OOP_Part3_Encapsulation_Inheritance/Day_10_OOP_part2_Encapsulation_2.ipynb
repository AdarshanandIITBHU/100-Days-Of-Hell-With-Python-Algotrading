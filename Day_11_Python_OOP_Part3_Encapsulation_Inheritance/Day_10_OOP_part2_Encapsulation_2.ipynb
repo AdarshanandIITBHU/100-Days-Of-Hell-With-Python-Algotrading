{
  "cells": [
    {
      "cell_type": "code",
      "execution_count": null,
      "metadata": {
        "id": "2jfIFsMocjN3"
      },
      "outputs": [],
      "source": [
        "\n"
      ]
    },
    {
      "cell_type": "markdown",
      "metadata": {
        "id": "JUmWTebLbjwN"
      },
      "source": [
        "### Write OOP classes to handle the following scenarios:\n",
        "\n",
        "- A user can create and view 2D coordinates\n",
        "- A user can find out the distance between 2 coordinates\n",
        "- A user can find find the distance of a coordinate from origin\n",
        "- A user can check if a point lies on a given line\n",
        "- A user can find the distance between a given 2D point and a given line\n",
        "\n"
      ]
    },
    {
      "cell_type": "code",
      "execution_count": null,
      "metadata": {
        "colab": {
          "base_uri": "https://localhost:8080/"
        },
        "id": "z3QeFQu07dpO",
        "outputId": "0af4fec2-739e-42f5-fcb5-428f5ea425fe"
      },
      "outputs": [
        {
          "name": "stdout",
          "output_type": "stream",
          "text": [
            "1x + 1y + -2 = 0\n",
            "<1,10>\n"
          ]
        },
        {
          "data": {
            "text/plain": [
              "6.363961030678928"
            ]
          },
          "execution_count": 43,
          "metadata": {},
          "output_type": "execute_result"
        }
      ],
      "source": [
        "l1 = Line(1,1,-2)\n",
        "p1 = Point(1,10)\n",
        "print(l1)\n",
        "print(p1)\n",
        "\n",
        "l1.shortest_distance(p1)"
      ]
    },
    {
      "cell_type": "markdown",
      "metadata": {
        "id": "s6n-PpwgfiMv"
      },
      "source": [
        "### How objects access attributes"
      ]
    },
    {
      "cell_type": "code",
      "execution_count": null,
      "metadata": {
        "id": "XUwz5NX3fl3p"
      },
      "outputs": [],
      "source": [
        "class TradingBot:\n",
        "    def __init__(self, name, capital, strategy):\n",
        "        self.name = name\n",
        "        self.capital = capital\n",
        "        self.strategy = strategy\n",
        "    \n",
        "    def get_name(self):\n",
        "        return self.name\n",
        "    \n",
        "    def get_capital(self):\n",
        "        return self.capital\n",
        "    \n",
        "    def set_capital(self, amount):\n",
        "        self.capital = amount\n",
        "    \n",
        "    def get_strategy(self):\n",
        "        return self.strategy\n",
        "    \n",
        "    def set_strategy(self, strategy):\n",
        "        self.strategy = strategy\n",
        "    \n",
        "    def display_info(self):\n",
        "        print(f\"Bot Name: {self.name}\")\n",
        "        print(f\"Capital: ${self.capital}\")\n",
        "        print(f\"Strategy: {self.strategy}\")\n",
        "\n",
        "# Example usage\n",
        "bot = TradingBot(\"AlphaBot\", 100000, \"Mean Reversion\")\n",
        "\n",
        "# Accessing attributes using methods\n",
        "print(\"Bot Name:\", bot.get_name())\n",
        "print(\"Initial Capital:\", bot.get_capital())\n",
        "print(\"Initial Strategy:\", bot.get_strategy())\n",
        "\n",
        "# Modifying attributes using methods\n",
        "bot.set_capital(120000)\n",
        "bot.set_strategy(\"Momentum Trading\")\n",
        "\n",
        "# Display updated information\n",
        "bot.display_info()"
      ]
    },
    {
      "cell_type": "code",
      "execution_count": null,
      "metadata": {
        "id": "Eb_wD7mkh-sK"
      },
      "outputs": [],
      "source": []
    },
    {
      "cell_type": "markdown",
      "metadata": {
        "id": "gFxMl3Gpfmq-"
      },
      "source": [
        "### Attribute creation from outside of the class"
      ]
    },
    {
      "cell_type": "code",
      "execution_count": null,
      "metadata": {
        "id": "Ab2M4VwRfp6G"
      },
      "outputs": [],
      "source": []
    },
    {
      "cell_type": "code",
      "execution_count": null,
      "metadata": {
        "colab": {
          "base_uri": "https://localhost:8080/",
          "height": 36
        },
        "id": "YquKhn88NXEZ",
        "outputId": "2d07e3aa-14d3-4016-cba2-8de3ac9c1fa5"
      },
      "outputs": [],
      "source": []
    },
    {
      "cell_type": "markdown",
      "metadata": {
        "id": "s26UEjp6fqjn"
      },
      "source": [
        "### Reference Variables\n",
        "\n",
        "- Reference variables hold the objects\n",
        "- We can create objects without reference variable as well\n",
        "- An object can have multiple reference variables\n",
        "- Assigning a new reference variable to an existing object does not create a new object"
      ]
    },
    {
      "cell_type": "code",
      "execution_count": 5,
      "metadata": {
        "id": "FAoqeNdQfsrB"
      },
      "outputs": [],
      "source": [
        "# object without a reference\n",
        "class Person:\n",
        "\n",
        "  def __init__(self):\n",
        "    self.name = 'Kuldeep'\n",
        "    self.gender = 'Male'\n",
        "\n",
        "p = Person()\n",
        "q = p"
      ]
    },
    {
      "cell_type": "code",
      "execution_count": 6,
      "metadata": {
        "colab": {
          "base_uri": "https://localhost:8080/"
        },
        "id": "oaJcQhkRfuGP",
        "outputId": "c0561a5e-f2d7-4e24-c8b1-5ec0a3a52372"
      },
      "outputs": [
        {
          "name": "stdout",
          "output_type": "stream",
          "text": [
            "136181045312336\n",
            "136181045312336\n"
          ]
        }
      ],
      "source": [
        "# Multiple ref\n",
        "print(id(p))\n",
        "print(id(q))"
      ]
    },
    {
      "cell_type": "code",
      "execution_count": null,
      "metadata": {
        "id": "Ycm-nWU6fscq"
      },
      "outputs": [],
      "source": [
        "# change attribute value with the help of 2nd object"
      ]
    },
    {
      "cell_type": "code",
      "execution_count": 7,
      "metadata": {
        "colab": {
          "base_uri": "https://localhost:8080/"
        },
        "id": "AtjSluqSfzqj",
        "outputId": "51460dab-fb58-4fe0-8280-f4befac9db5a"
      },
      "outputs": [
        {
          "name": "stdout",
          "output_type": "stream",
          "text": [
            "Kuldeep\n",
            "Kuldeep\n",
            "Ankit\n",
            "Ankit\n"
          ]
        }
      ],
      "source": [
        "print(p.name)\n",
        "print(q.name)\n",
        "q.name = 'Ankit'\n",
        "print(q.name)\n",
        "print(p.name)"
      ]
    },
    {
      "cell_type": "markdown",
      "metadata": {
        "id": "4nqDJqJvfukO"
      },
      "source": [
        "### Pass by reference"
      ]
    },
    {
      "cell_type": "code",
      "execution_count": 8,
      "metadata": {
        "colab": {
          "base_uri": "https://localhost:8080/"
        },
        "id": "noYvRkMmfwMl",
        "outputId": "2e61b55e-133c-4f15-9dc4-c29a416658d9"
      },
      "outputs": [
        {
          "name": "stdout",
          "output_type": "stream",
          "text": [
            "Existing Trades before executing new trades:\n",
            "[Trade(symbol=AAPL, quantity=100, price=150.0), Trade(symbol=GOOGL, quantity=50, price=2500.0)]\n",
            "\n",
            "Existing Trades after executing new trades:\n",
            "[Trade(symbol=AAPL, quantity=110, price=150.0), Trade(symbol=GOOGL, quantity=50, price=2500.0), Trade(symbol=TSLA, quantity=20, price=700.0), Trade(symbol=AMZN, quantity=10, price=3200.0)]\n"
          ]
        }
      ],
      "source": [
        "class Trade:\n",
        "    def __init__(self, symbol, quantity, price):\n",
        "        self.symbol = symbol\n",
        "        self.quantity = quantity\n",
        "        self.price = price\n",
        "    \n",
        "    def __repr__(self):\n",
        "        return f\"Trade(symbol={self.symbol}, quantity={self.quantity}, price={self.price})\"\n",
        "\n",
        "def execute_trades(trades, new_trades):\n",
        "    # Add new trades to the existing list of trades\n",
        "    trades.extend(new_trades)\n",
        "    # Modify an existing trade\n",
        "    if trades:\n",
        "        trades[0].quantity += 10  # Increase the quantity of the first trade by 10\n",
        "\n",
        "# Example usage\n",
        "existing_trades = [\n",
        "    Trade(\"AAPL\", 100, 150.00),\n",
        "    Trade(\"GOOGL\", 50, 2500.00)\n",
        "]\n",
        "\n",
        "new_trades = [\n",
        "    Trade(\"TSLA\", 20, 700.00),\n",
        "    Trade(\"AMZN\", 10, 3200.00)\n",
        "]\n",
        "\n",
        "print(\"Existing Trades before executing new trades:\")\n",
        "print(existing_trades)\n",
        "\n",
        "# Pass the list of trades to the function\n",
        "execute_trades(existing_trades, new_trades)\n",
        "\n",
        "print(\"\\nExisting Trades after executing new trades:\")\n",
        "print(existing_trades)\n"
      ]
    },
    {
      "cell_type": "code",
      "execution_count": null,
      "metadata": {
        "colab": {
          "base_uri": "https://localhost:8080/"
        },
        "id": "8ddbyX3hHryA",
        "outputId": "b902e987-9199-4637-c88c-ca5154bf31bb"
      },
      "outputs": [],
      "source": []
    },
    {
      "cell_type": "markdown",
      "metadata": {
        "id": "gRNNs9_DFvud"
      },
      "source": [
        "### Mutability of Object"
      ]
    },
    {
      "cell_type": "code",
      "execution_count": 17,
      "metadata": {
        "colab": {
          "base_uri": "https://localhost:8080/"
        },
        "id": "GcBsQGR_Fy5E",
        "outputId": "e1048f8e-45c0-4ff0-8a2b-78578b81f23b"
      },
      "outputs": [
        {
          "name": "stdout",
          "output_type": "stream",
          "text": [
            "Original trade1:\n",
            "Trade(symbol=AAPL, quantity=100, price=150.0)\n",
            "\n",
            "Original trade2:\n",
            "Trade(symbol=GOOGL, quantity=50, price=2500.0)\n",
            "Updated trade within function: Trade(symbol=AAPL, quantity=200, price=150.0)\n",
            "Updated trade within function: Trade(symbol=GOOGL, quantity=75, price=2500.0)\n",
            "\n",
            "Trade1 after update:\n",
            "Trade(symbol=AAPL, quantity=200, price=150.0)\n",
            "\n",
            "Trade2 after update:\n",
            "Trade(symbol=GOOGL, quantity=75, price=2500.0)\n"
          ]
        }
      ],
      "source": [
        "class Trade:\n",
        "    def __init__(self, symbol, quantity, price):\n",
        "        self.symbol = symbol\n",
        "        self.quantity = quantity\n",
        "        self.price = price\n",
        "    \n",
        "    def __repr__(self):\n",
        "        return f\"Trade(symbol={self.symbol}, quantity={self.quantity}, price={self.price})\"\n",
        "\n",
        "def update_trade_quantity(trade, new_quantity):\n",
        "    trade.quantity = new_quantity\n",
        "    print(f\"Updated trade within function: {trade}\")\n",
        "\n",
        "# Example usage\n",
        "trade1 = Trade(\"AAPL\", 100, 150.00)\n",
        "trade2 = Trade(\"GOOGL\", 50, 2500.00)\n",
        "\n",
        "print(\"Original trade1:\")\n",
        "print(trade1)\n",
        "\n",
        "print(\"\\nOriginal trade2:\")\n",
        "print(trade2)\n",
        "\n",
        "# Update the quantity of trade1\n",
        "update_trade_quantity(trade1, 200)\n",
        "\n",
        "# Update the quantity of trade2\n",
        "update_trade_quantity(trade2, 75)\n",
        "\n",
        "print(\"\\nTrade1 after update:\")\n",
        "print(trade1)\n",
        "\n",
        "print(\"\\nTrade2 after update:\")\n",
        "print(trade2)\n"
      ]
    },
    {
      "cell_type": "code",
      "execution_count": null,
      "metadata": {},
      "outputs": [],
      "source": []
    },
    {
      "cell_type": "markdown",
      "metadata": {
        "id": "A2Opzki1fw7x"
      },
      "source": [
        "### Encapsulation"
      ]
    },
    {
      "cell_type": "code",
      "execution_count": 11,
      "metadata": {
        "id": "yLRvYq47fyvp"
      },
      "outputs": [],
      "source": [
        "# instance var -> python tutor\n",
        "class Person:\n",
        "\n",
        "  def __init__(self,name_input,country_input):\n",
        "    self.name = name_input\n",
        "    self.country = country_input\n",
        "\n",
        "p1 = Person('kuldeep','india')\n",
        "p2 = Person('steve','australia')"
      ]
    },
    {
      "cell_type": "code",
      "execution_count": null,
      "metadata": {
        "colab": {
          "base_uri": "https://localhost:8080/",
          "height": 36
        },
        "id": "myBJr2T_KZmL",
        "outputId": "98f717d2-c600-43fa-c6ba-012f518d0490"
      },
      "outputs": [
        {
          "data": {
            "application/vnd.google.colaboratory.intrinsic+json": {
              "type": "string"
            },
            "text/plain": [
              "'steve'"
            ]
          },
          "execution_count": 65,
          "metadata": {},
          "output_type": "execute_result"
        }
      ],
      "source": [
        "p2.name"
      ]
    },
    {
      "cell_type": "code",
      "execution_count": null,
      "metadata": {
        "id": "HRV0i93nzBtZ"
      },
      "outputs": [],
      "source": [
        "class Trade:\n",
        "    def __init__(self, symbol, quantity, price):\n",
        "        self.__symbol = symbol      # Private attribute\n",
        "        self.__quantity = quantity  # Private attribute\n",
        "        self.__price = price        # Private attribute\n",
        "    \n",
        "    # Public method to get the symbol\n",
        "    def get_symbol(self):\n",
        "        return self.__symbol\n",
        "    \n",
        "    # Public method to set the symbol\n",
        "    def set_symbol(self, symbol):\n",
        "        if symbol:\n",
        "            self.__symbol = symbol\n",
        "        else:\n",
        "            raise ValueError(\"Symbol cannot be empty\")\n",
        "    \n",
        "    # Public method to get the quantity\n",
        "    def get_quantity(self):\n",
        "        return self.__quantity\n",
        "    \n",
        "    # Public method to set the quantity\n",
        "    def set_quantity(self, quantity):\n",
        "        if quantity > 0:\n",
        "            self.__quantity = quantity\n",
        "        else:\n",
        "            raise ValueError(\"Quantity must be positive\")\n",
        "    \n",
        "    # Public method to get the price\n",
        "    def get_price(self):\n",
        "        return self.__price\n",
        "    \n",
        "    # Public method to set the price\n",
        "    def set_price(self, price):\n",
        "        if price > 0:\n",
        "            self.__price = price\n",
        "        else:\n",
        "            raise ValueError(\"Price must be positive\")\n",
        "    \n",
        "    # Public method to display trade details\n",
        "    def display_trade(self):\n",
        "        print(f\"Trade(symbol={self.__symbol}, quantity={self.__quantity}, price={self.__price})\")\n",
        "\n",
        "# Example usage\n",
        "trade = Trade(\"AAPL\", 100, 150.00)\n",
        "\n",
        "# Accessing and modifying attributes using public methods\n",
        "print(\"Original Trade:\")\n",
        "trade.display_trade()\n",
        "\n",
        "# Modify trade details\n",
        "trade.set_quantity(200)\n",
        "trade.set_price(155.00)\n",
        "trade.display_trade()\n",
        "\n",
        "# Attempting to set invalid values\n",
        "try:\n",
        "    trade.set_quantity(-50)\n",
        "except ValueError as e:\n",
        "    print(e)\n",
        "\n",
        "try:\n",
        "    trade.set_price(-100.00)\n",
        "except ValueError as e:\n",
        "    print(e)\n",
        "\n",
        "# Direct access to private attributes (not recommended)\n",
        "# This will raise an AttributeError\n",
        "try:\n",
        "    print(trade.__symbol)\n",
        "except AttributeError as e:\n",
        "    print(e)\n"
      ]
    },
    {
      "cell_type": "markdown",
      "metadata": {
        "id": "2zN_yVYaf0_1"
      },
      "source": [
        "### Collection of objects"
      ]
    },
    {
      "cell_type": "code",
      "execution_count": null,
      "metadata": {
        "id": "UN7FByT3LZSX"
      },
      "outputs": [],
      "source": []
    },
    {
      "cell_type": "code",
      "execution_count": 10,
      "metadata": {
        "colab": {
          "base_uri": "https://localhost:8080/"
        },
        "id": "VdP0aR6Qf4zp",
        "outputId": "72deb00b-deae-4536-da36-2bae44d2245c"
      },
      "outputs": [
        {
          "name": "stdout",
          "output_type": "stream",
          "text": [
            "Added trade: Trade(symbol=AAPL, quantity=100, price=150.0)\n",
            "Added trade: Trade(symbol=GOOGL, quantity=50, price=2500.0)\n",
            "Added trade: Trade(symbol=TSLA, quantity=20, price=700.0)\n",
            "Portfolio contains the following trades:\n",
            "Trade(symbol=AAPL, quantity=100, price=150.0)\n",
            "Trade(symbol=GOOGL, quantity=50, price=2500.0)\n",
            "Trade(symbol=TSLA, quantity=20, price=700.0)\n",
            "Removed trades with symbol: GOOGL\n",
            "Portfolio contains the following trades:\n",
            "Trade(symbol=AAPL, quantity=100, price=150.0)\n",
            "Trade(symbol=TSLA, quantity=20, price=700.0)\n",
            "Retrieved specific trade: Trade(symbol=AAPL, quantity=100, price=150.0)\n"
          ]
        }
      ],
      "source": [
        "class Trade:\n",
        "    def __init__(self, symbol, quantity, price):\n",
        "        self.symbol = symbol\n",
        "        self.quantity = quantity\n",
        "        self.price = price\n",
        "    \n",
        "    def __repr__(self):\n",
        "        return f\"Trade(symbol={self.symbol}, quantity={self.quantity}, price={self.price})\"\n",
        "\n",
        "class Portfolio:\n",
        "    def __init__(self):\n",
        "        self.trades = []\n",
        "    \n",
        "    def add_trade(self, trade):\n",
        "        self.trades.append(trade)\n",
        "        print(f\"Added trade: {trade}\")\n",
        "    \n",
        "    def remove_trade(self, symbol):\n",
        "        self.trades = [trade for trade in self.trades if trade.symbol != symbol]\n",
        "        print(f\"Removed trades with symbol: {symbol}\")\n",
        "    \n",
        "    def get_trade(self, symbol):\n",
        "        for trade in self.trades:\n",
        "            if trade.symbol == symbol:\n",
        "                return trade\n",
        "        return None\n",
        "    \n",
        "    def display_portfolio(self):\n",
        "        print(\"Portfolio contains the following trades:\")\n",
        "        for trade in self.trades:\n",
        "            print(trade)\n",
        "\n",
        "# Example usage\n",
        "portfolio = Portfolio()\n",
        "\n",
        "# Create some trades\n",
        "trade1 = Trade(\"AAPL\", 100, 150.00)\n",
        "trade2 = Trade(\"GOOGL\", 50, 2500.00)\n",
        "trade3 = Trade(\"TSLA\", 20, 700.00)\n",
        "\n",
        "# Add trades to portfolio\n",
        "portfolio.add_trade(trade1)\n",
        "portfolio.add_trade(trade2)\n",
        "portfolio.add_trade(trade3)\n",
        "\n",
        "# Display the portfolio\n",
        "portfolio.display_portfolio()\n",
        "\n",
        "# Remove a trade\n",
        "portfolio.remove_trade(\"GOOGL\")\n",
        "\n",
        "# Display the portfolio after removal\n",
        "portfolio.display_portfolio()\n",
        "\n",
        "# Get and display a specific trade\n",
        "specific_trade = portfolio.get_trade(\"AAPL\")\n",
        "print(f\"Retrieved specific trade: {specific_trade}\")\n"
      ]
    },
    {
      "cell_type": "code",
      "execution_count": null,
      "metadata": {
        "colab": {
          "base_uri": "https://localhost:8080/"
        },
        "id": "uARXTZTCvt3M",
        "outputId": "18e100f5-07a5-43df-d0d9-482ce648f6f5"
      },
      "outputs": [],
      "source": []
    },
    {
      "cell_type": "markdown",
      "metadata": {
        "id": "TKdM9xIFf8Lt"
      },
      "source": [
        "### Static Variables(Vs Instance variables)"
      ]
    },
    {
      "cell_type": "code",
      "execution_count": null,
      "metadata": {
        "id": "yQakCFqbf-kB"
      },
      "outputs": [],
      "source": [
        "# need for static vars"
      ]
    },
    {
      "cell_type": "code",
      "execution_count": 14,
      "metadata": {
        "id": "5HYjBHv9wZNm"
      },
      "outputs": [
        {
          "name": "stdout",
          "output_type": "stream",
          "text": [
            "Bot Name: AlphaBot\n",
            "Capital: $100000\n",
            "Number of trades executed by this bot: 0\n",
            "Total number of trades executed by all bots: 0\n",
            "Bot Name: BetaBot\n",
            "Capital: $200000\n",
            "Number of trades executed by this bot: 0\n",
            "Total number of trades executed by all bots: 0\n",
            "AlphaBot executed trade: {'symbol': 'AAPL', 'quantity': 10, 'price': 150.0}\n",
            "BetaBot executed trade: {'symbol': 'GOOGL', 'quantity': 5, 'price': 2500.0}\n",
            "AlphaBot executed trade: {'symbol': 'TSLA', 'quantity': 20, 'price': 700.0}\n",
            "\n",
            "After executing trades:\n",
            "Bot Name: AlphaBot\n",
            "Capital: $100000\n",
            "Number of trades executed by this bot: 2\n",
            "Total number of trades executed by all bots: 3\n",
            "Bot Name: BetaBot\n",
            "Capital: $200000\n",
            "Number of trades executed by this bot: 1\n",
            "Total number of trades executed by all bots: 3\n"
          ]
        }
      ],
      "source": [
        "class TradingBot:\n",
        "    # Static variable to count the total number of trades\n",
        "    total_trades = 0\n",
        "\n",
        "    def __init__(self, name, capital):\n",
        "        self.name = name\n",
        "        self.capital = capital\n",
        "        self.trades = []\n",
        "\n",
        "    def execute_trade(self, symbol, quantity, price):\n",
        "        trade = {\"symbol\": symbol, \"quantity\": quantity, \"price\": price}\n",
        "        self.trades.append(trade)\n",
        "        TradingBot.total_trades += 1\n",
        "        print(f\"{self.name} executed trade: {trade}\")\n",
        "\n",
        "    def display_info(self):\n",
        "        print(f\"Bot Name: {self.name}\")\n",
        "        print(f\"Capital: ${self.capital}\")\n",
        "        print(f\"Number of trades executed by this bot: {len(self.trades)}\")\n",
        "        print(f\"Total number of trades executed by all bots: {TradingBot.total_trades}\")\n",
        "\n",
        "# Example usage\n",
        "bot1 = TradingBot(\"AlphaBot\", 100000)\n",
        "bot2 = TradingBot(\"BetaBot\", 200000)\n",
        "\n",
        "# Display initial info\n",
        "bot1.display_info()\n",
        "bot2.display_info()\n",
        "\n",
        "# Execute trades\n",
        "bot1.execute_trade(\"AAPL\", 10, 150.00)\n",
        "bot2.execute_trade(\"GOOGL\", 5, 2500.00)\n",
        "bot1.execute_trade(\"TSLA\", 20, 700.00)\n",
        "\n",
        "# Display updated info\n",
        "print(\"\\nAfter executing trades:\")\n",
        "bot1.display_info()\n",
        "bot2.display_info()\n"
      ]
    },
    {
      "cell_type": "markdown",
      "metadata": {
        "id": "K9bxHyfBgC3Y"
      },
      "source": [
        "### Static methods"
      ]
    },
    {
      "cell_type": "code",
      "execution_count": null,
      "metadata": {
        "id": "_c09xqV9gEf-"
      },
      "outputs": [],
      "source": []
    },
    {
      "cell_type": "markdown",
      "metadata": {
        "id": "Izqb_9FtwoIZ"
      },
      "source": [
        "##### Points to remember about static\n",
        "\n",
        "- Static attributes are created at class level.\n",
        "- Static attributes are accessed using ClassName.\n",
        "- Static attributes are object independent. We can access them without creating instance (object) of the class in which they are defined.\n",
        "- The value stored in static attribute is shared between all instances(objects) of the class in which the static attribute is defined."
      ]
    },
    {
      "cell_type": "code",
      "execution_count": null,
      "metadata": {
        "id": "3u0RdyaFwyaP"
      },
      "outputs": [],
      "source": [
        "class TradingBot:\n",
        "    def __init__(self, name, capital):\n",
        "        self.name = name\n",
        "        self.capital = capital\n",
        "    \n",
        "    def display_info(self):\n",
        "        print(f\"Bot Name: {self.name}\")\n",
        "        print(f\"Capital: ${self.capital}\")\n",
        "    \n",
        "    @staticmethod\n",
        "    def validate_trade(symbol, quantity, price):\n",
        "        if not symbol:\n",
        "            return False, \"Symbol cannot be empty.\"\n",
        "        if quantity <= 0:\n",
        "            return False, \"Quantity must be positive.\"\n",
        "        if price <= 0:\n",
        "            return False, \"Price must be positive.\"\n",
        "        return True, \"Trade is valid.\"\n",
        "\n",
        "# Example usage\n",
        "bot = TradingBot(\"AlphaBot\", 100000)\n",
        "\n",
        "# Display bot info\n",
        "bot.display_info()\n",
        "\n",
        "# Validate a valid trade\n",
        "is_valid, message = TradingBot.validate_trade(\"AAPL\", 10, 150.00)\n",
        "print(f\"Validation result: {message}\")\n",
        "\n",
        "# Validate an invalid trade\n",
        "is_valid, message = TradingBot.validate_trade(\"\", 10, 150.00)\n",
        "print(f\"Validation result: {message}\")\n",
        "\n",
        "is_valid, message = TradingBot.validate_trade(\"AAPL\", -5, 150.00)\n",
        "print(f\"Validation result: {message}\")\n",
        "\n",
        "is_valid, message = TradingBot.validate_trade(\"AAPL\", 10, -150.00)\n",
        "print(f\"Validation result: {message}\")\n"
      ]
    }
  ],
  "metadata": {
    "colab": {
      "provenance": []
    },
    "kernelspec": {
      "display_name": "Python 3",
      "name": "python3"
    },
    "language_info": {
      "codemirror_mode": {
        "name": "ipython",
        "version": 3
      },
      "file_extension": ".py",
      "mimetype": "text/x-python",
      "name": "python",
      "nbconvert_exporter": "python",
      "pygments_lexer": "ipython3",
      "version": "3.10.12"
    }
  },
  "nbformat": 4,
  "nbformat_minor": 0
}
