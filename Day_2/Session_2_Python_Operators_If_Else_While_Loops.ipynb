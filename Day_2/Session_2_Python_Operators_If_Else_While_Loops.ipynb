{
 "cells": [
  {
   "cell_type": "markdown",
   "metadata": {},
   "source": [
    "### Operators in Python\n",
    "1. Arithmatic\n",
    "2. Relational\n",
    "3. Logical\n",
    "4. Bitwise\n",
    "5. Assignment\n",
    "6. Membership"
   ]
  },
  {
   "cell_type": "markdown",
   "metadata": {},
   "source": [
    "### Scenario: Evaluating a Single Trade in Day Trading\n",
    "\n",
    "- Objective:\n",
    "Calculate potential profit, risk, and other financial metrics for a day trade based on given stock price, account balance, and predefined trading rules.\n",
    "\n",
    "\n",
    "# Constants and initial conditions\n",
    "- entry_price = 150.0  # Entry price for the stock\n",
    "- exit_price = 155.0   # Target exit price for the stock\n",
    "- stop_loss_price = 148.0  # Stop loss price\n",
    "- shares_count = 10    # Number of shares considering buying\n",
    "- account_balance = 2000.0  # Current trading account balance\n"
   ]
  },
  {
   "cell_type": "code",
   "execution_count": 125,
   "metadata": {},
   "outputs": [
    {
     "name": "stdout",
     "output_type": "stream",
     "text": [
      "1500.0\n",
      "20.0\n",
      "50.0\n",
      "3.3333333333333335\n",
      "13.0\n",
      "50.0\n",
      "1000\n"
     ]
    }
   ],
   "source": [
    "\n",
    "entry_price = 150.0  # Entry price for the stock\n",
    "exit_price = 155.0   # Target exit price for the stock\n",
    "stop_loss_price = 148.0  # Stop loss price\n",
    "shares_count = 10    # Number of shares considering buying\n",
    "account_balance = 2000.0  # Current trading account balance\n",
    "total_cost  = entry_price * shares_count\n",
    "print(total_cost)\n",
    "\n",
    "risk = (entry_price - stop_loss_price)*shares_count\n",
    "print(risk)\n",
    "\n",
    "potential_profit = (exit_price - entry_price)*shares_count\n",
    "print(potential_profit)\n",
    "\n",
    "roi = (potential_profit/total_cost)*100\n",
    "print(roi)\n",
    "\n",
    "max_num_shares = account_balance//entry_price\n",
    "print(max_num_shares)\n",
    "\n",
    "remaining_balance = account_balance % entry_price\n",
    "print(remaining_balance)\n",
    "\n",
    "power_of_share = shares_count**3\n",
    "print(power_of_share)"
   ]
  },
  {
   "cell_type": "code",
   "execution_count": null,
   "metadata": {},
   "outputs": [],
   "source": []
  },
  {
   "cell_type": "code",
   "execution_count": 112,
   "metadata": {},
   "outputs": [
    {
     "name": "stdout",
     "output_type": "stream",
     "text": [
      "7\n",
      "3\n",
      "10\n",
      "2.5\n",
      "2\n",
      "1\n",
      "25\n"
     ]
    }
   ],
   "source": [
    "\n",
    "a = 5\n",
    "b = 2\n",
    "# 1. Arithmatic\n",
    "    # Add\n",
    "print(a + b)\n",
    "    # Sub\n",
    "print(a - b)\n",
    "    # Mul\n",
    "print(a * b)\n",
    "    # Div\n",
    "print(a / b)\n",
    "    # Int Div\n",
    "print(a // b)\n",
    "    # Modulo\n",
    "print(a % b)\n",
    "    # Power of\n",
    "print(a ** b) \n",
    "\n"
   ]
  },
  {
   "cell_type": "code",
   "execution_count": null,
   "metadata": {},
   "outputs": [],
   "source": []
  },
  {
   "cell_type": "code",
   "execution_count": 132,
   "metadata": {},
   "outputs": [
    {
     "data": {
      "text/plain": [
       "False"
      ]
     },
     "execution_count": 132,
     "metadata": {},
     "output_type": "execute_result"
    }
   ],
   "source": [
    "entry_price = 155.0  # Entry price for the stock\n",
    "exit_price = 155.0   # Target exit price for the stock\n",
    "stop_loss_price = 148.0  # Stop loss price\n",
    "shares_count = 10    # Number of shares considering buying\n",
    "account_balance = 2000.0  # Current trading account balance\n",
    "total_cost  = entry_price * shares_count\n",
    "\n",
    "# 2. Relational\n",
    "    # >\n",
    "exit_price != entry_price\n",
    "    # <\n",
    "    # >=\n",
    "    # <=\n",
    "    # ==\n",
    "    # !=\n"
   ]
  },
  {
   "cell_type": "code",
   "execution_count": 145,
   "metadata": {},
   "outputs": [
    {
     "data": {
      "text/plain": [
       "True"
      ]
     },
     "execution_count": 145,
     "metadata": {},
     "output_type": "execute_result"
    }
   ],
   "source": [
    "entry_price = 135.0  # Entry price for the stock\n",
    "exit_price = 155.0   # Target exit price for the stock\n",
    "stop_loss_price = 148.0  # Stop loss price\n",
    "shares_count = 10    # Number of shares considering buying\n",
    "account_balance = 2000.0  # Current trading account balance\n",
    "total_cost  = entry_price * shares_count\n",
    "\n",
    "# 3. Logical\n",
    "    # and\n",
    "    # or\n",
    "    # not\n",
    "not entry_price > stop_loss_price"
   ]
  },
  {
   "cell_type": "code",
   "execution_count": 150,
   "metadata": {},
   "outputs": [
    {
     "data": {
      "text/plain": [
       "-4"
      ]
     },
     "execution_count": 150,
     "metadata": {},
     "output_type": "execute_result"
    }
   ],
   "source": [
    "# 4. Bitwise\n",
    "# &\n",
    "# |\n",
    "# ^\n",
    "# ~\n",
    "# >>2\n",
    "#2<<\n",
    "\n",
    "\n",
    "\n",
    "\n"
   ]
  },
  {
   "cell_type": "code",
   "execution_count": 102,
   "metadata": {},
   "outputs": [],
   "source": [
    "# 5. Assignment\n",
    "\n",
    "a = 2\n",
    "b  = 3\n",
    "\n",
    "a = a+b\n",
    "a += b \n",
    "a *= b\n",
    "\n",
    "a = a* b"
   ]
  },
  {
   "cell_type": "code",
   "execution_count": 153,
   "metadata": {},
   "outputs": [
    {
     "data": {
      "text/plain": [
       "True"
      ]
     },
     "execution_count": 153,
     "metadata": {},
     "output_type": "execute_result"
    }
   ],
   "source": [
    "# 6. Membership\n",
    "\"S\" not in \"ingapore\"\n",
    "\n"
   ]
  },
  {
   "cell_type": "markdown",
   "metadata": {},
   "source": [
    "### If-else in Python"
   ]
  },
  {
   "cell_type": "code",
   "execution_count": 161,
   "metadata": {},
   "outputs": [
    {
     "name": "stdout",
     "output_type": "stream",
     "text": [
      "Please check your account balance\n"
     ]
    }
   ],
   "source": [
    "#if-else\n",
    "#if-elif-else\n",
    "#nested if-else\n",
    "\n",
    "\n",
    "entry_price = 165.0  # Entry price for the stock\n",
    "exit_price = 155.0   # Target exit price for the stock\n",
    "stop_loss_price = 148.0  # Stop loss price\n",
    "shares_count = 10    # Number of shares considering buying\n",
    "account_balance = 900.0  # Current trading account balance\n",
    "total_cost  = entry_price * shares_count\n",
    "\n",
    "\n",
    "if entry_price < exit_price:\n",
    "    print(\"Entry price is greater\")\n",
    "\n",
    "elif entry_price < stop_loss_price:\n",
    "    print(\"Entry price is greater SL price\")\n",
    "else:\n",
    "    if account_balance > 1000:\n",
    "        print(\"You can proceed with the trade\")\n",
    "    else:\n",
    "        print(\"Please check your account balance\")"
   ]
  },
  {
   "cell_type": "markdown",
   "metadata": {},
   "source": [
    "#### Examples\n",
    "- Lowest price out of 3 price\n",
    "- Menu Driven Programme\n"
   ]
  },
  {
   "cell_type": "code",
   "execution_count": 168,
   "metadata": {},
   "outputs": [
    {
     "name": "stdout",
     "output_type": "stream",
     "text": [
      "115.0 is the lowest price\n"
     ]
    }
   ],
   "source": [
    "entry_price = 135.0  # Entry price for the stock\n",
    "exit_price = 115.0   # Target exit price for the stock\n",
    "stop_loss_price = 148.0  # Stop loss price\n",
    "\n",
    "if entry_price < exit_price and entry_price < stop_loss_price:\n",
    "    print(f\"{entry_price} is the lowest price\")\n",
    "\n",
    "elif exit_price < stop_loss_price:\n",
    "    print(f\"{exit_price} is the lowest price\")\n",
    "\n",
    "else:\n",
    "    print(f\"{stop_loss_price} is the lowest price\")\n",
    "\n"
   ]
  },
  {
   "cell_type": "code",
   "execution_count": 171,
   "metadata": {},
   "outputs": [
    {
     "name": "stdout",
     "output_type": "stream",
     "text": [
      "This is the 148.0 \n"
     ]
    }
   ],
   "source": [
    "entry_price = 135.0  # Entry price for the stock\n",
    "exit_price = 115.0   # Target exit price for the stock\n",
    "stop_loss_price = 148.0  # Stop loss price\n",
    "\n",
    "uinput = input('''\n",
    "\n",
    "             What you wnat to see ?\n",
    "               1 - To display Entry Price\n",
    "               2 - To display Exit Price\n",
    "               3 - To display SL Price\n",
    "               ''')\n",
    "\n",
    "if uinput == \"1\":\n",
    "    print(f\"This is the {entry_price} \")\n",
    "elif uinput == \"2\":\n",
    "    print(f\"This is the {exit_price} \")\n",
    "else:\n",
    "    print(f\"This is the {stop_loss_price} \")"
   ]
  },
  {
   "cell_type": "code",
   "execution_count": null,
   "metadata": {},
   "outputs": [],
   "source": []
  },
  {
   "cell_type": "markdown",
   "metadata": {},
   "source": [
    "### Modules in Pyton\n",
    "- math\n",
    "- keywords\n",
    "- random\n",
    "- datetime\n",
    "- List all modules"
   ]
  },
  {
   "cell_type": "code",
   "execution_count": null,
   "metadata": {},
   "outputs": [],
   "source": [
    "#math.factorial()\n",
    "#math.floor()\n",
    "#math.sqrt()"
   ]
  },
  {
   "cell_type": "code",
   "execution_count": null,
   "metadata": {},
   "outputs": [],
   "source": [
    "\n",
    "#keyword.kwlist"
   ]
  },
  {
   "cell_type": "code",
   "execution_count": null,
   "metadata": {},
   "outputs": [],
   "source": [
    "#random.randint(1,100)\n"
   ]
  },
  {
   "cell_type": "code",
   "execution_count": null,
   "metadata": {},
   "outputs": [],
   "source": [
    "#datetime.datetime.now()\n",
    "#Initial Stock Price and Volatility"
   ]
  },
  {
   "cell_type": "code",
   "execution_count": null,
   "metadata": {},
   "outputs": [],
   "source": [
    "#help('modules')"
   ]
  },
  {
   "cell_type": "markdown",
   "metadata": {},
   "source": [
    "# Loops in Python\n",
    "- Need for loops\n",
    "- While loop\n",
    "- For loop"
   ]
  },
  {
   "cell_type": "markdown",
   "metadata": {},
   "source": [
    "#### Examples"
   ]
  },
  {
   "cell_type": "markdown",
   "metadata": {},
   "source": []
  },
  {
   "cell_type": "code",
   "execution_count": null,
   "metadata": {},
   "outputs": [],
   "source": [
    "#Need for loop\n",
    "#Example -  Cumulative Returns\n"
   ]
  },
  {
   "cell_type": "code",
   "execution_count": null,
   "metadata": {},
   "outputs": [],
   "source": [
    "# While Loop\n",
    "#Example - Target Price"
   ]
  },
  {
   "cell_type": "code",
   "execution_count": 173,
   "metadata": {},
   "outputs": [
    {
     "name": "stdout",
     "output_type": "stream",
     "text": [
      "Price 111 at index 6 breaches the threshold of 110\n",
      "Search complete.\n"
     ]
    }
   ],
   "source": [
    "# Sample historical price data\n",
    "prices = [100, 102, 101, 105, 108, 107, 111, 115, 117]\n",
    "\n",
    "# Define the price threshold\n",
    "threshold = 110\n",
    "\n",
    "# Initialize index\n",
    "index = 0\n",
    "\n",
    "# Use a while loop to search for the first price above the threshold\n",
    "while index < len(prices):\n",
    "    if prices[index] > threshold:\n",
    "        print(f\"Price {prices[index]} at index {index} breaches the threshold of {threshold}\")\n",
    "        break\n",
    "    index += 1\n",
    "else:\n",
    "    # This block is executed if the loop completes without encountering a break\n",
    "    print(\"No price breaches the threshold.\")\n",
    "\n",
    "print(\"Search complete.\")"
   ]
  },
  {
   "cell_type": "code",
   "execution_count": null,
   "metadata": {},
   "outputs": [],
   "source": [
    "# For Loop\n",
    "# Example - Average Closing Price over a 5-day period"
   ]
  }
 ],
 "metadata": {
  "kernelspec": {
   "display_name": "base",
   "language": "python",
   "name": "python3"
  },
  "language_info": {
   "codemirror_mode": {
    "name": "ipython",
    "version": 3
   },
   "file_extension": ".py",
   "mimetype": "text/x-python",
   "name": "python",
   "nbconvert_exporter": "python",
   "pygments_lexer": "ipython3",
   "version": "3.11.8"
  }
 },
 "nbformat": 4,
 "nbformat_minor": 2
}
